{
  "nbformat": 4,
  "nbformat_minor": 0,
  "metadata": {
    "colab": {
      "provenance": [],
      "authorship_tag": "ABX9TyMfB5rArnkW2XK+9Z3VAo8u",
      "include_colab_link": true
    },
    "kernelspec": {
      "name": "python3",
      "display_name": "Python 3"
    },
    "language_info": {
      "name": "python"
    }
  },
  "cells": [
    {
      "cell_type": "markdown",
      "metadata": {
        "id": "view-in-github",
        "colab_type": "text"
      },
      "source": [
        "<a href=\"https://colab.research.google.com/github/ctrl-scott/CS6647/blob/main/owen_CS6647_homework5_huan.ipynb\" target=\"_parent\"><img src=\"https://colab.research.google.com/assets/colab-badge.svg\" alt=\"Open In Colab\"/></a>"
      ]
    },
    {
      "cell_type": "code",
      "execution_count": null,
      "metadata": {
        "colab": {
          "base_uri": "https://localhost:8080/"
        },
        "id": "4FoI-ab7N1ui",
        "outputId": "ace3c7d3-4f7f-4454-978f-c85dfc7e564e"
      },
      "outputs": [
        {
          "output_type": "execute_result",
          "data": {
            "text/plain": [
              "{0: 'Rest', 1: 'Sweeties', 2: 'Exercises'}"
            ]
          },
          "metadata": {},
          "execution_count": 1
        }
      ],
      "source": [
        "#From Module 6 Lecture Markov Chains\n",
        "#https://www.youtube.com/watch?v=i3AkTO9HLXo\n",
        "#https://www.youtube.com/watch?v=G7FIQ9fXl6U\n",
        "\n",
        "import numpy as np\n",
        "import sympy\n",
        "\n",
        "state = {\n",
        "    0: \"Rest\",\n",
        "    1: \"Sweeties\",\n",
        "    2: \"Exercises\"\n",
        "}\n",
        "\n",
        "state"
      ]
    },
    {
      "cell_type": "code",
      "source": [
        "A = np.array([[0.2,0.2,0.6],[0.1,0.2,0.7],[0.6,0.1,0.3]])\n",
        "A"
      ],
      "metadata": {
        "colab": {
          "base_uri": "https://localhost:8080/"
        },
        "id": "0K04oVxN_T_6",
        "outputId": "acee7895-c369-4bb1-e0be-dd938fa37b88"
      },
      "execution_count": null,
      "outputs": [
        {
          "output_type": "execute_result",
          "data": {
            "text/plain": [
              "array([[0.2, 0.2, 0.6],\n",
              "       [0.1, 0.2, 0.7],\n",
              "       [0.6, 0.1, 0.3]])"
            ]
          },
          "metadata": {},
          "execution_count": 2
        }
      ]
    },
    {
      "cell_type": "code",
      "source": [
        "n = 15\n",
        "start_state = 0\n",
        "print(state[start_state], \"--->\", end=\" \")\n",
        "prev_state = start_state\n",
        "\n",
        "while n-1:\n",
        "  curr_state = np.random.choice([0,1,2],p=A[prev_state])\n",
        "  print(state[curr_state], \"--->\", end=\" \")\n",
        "  prev_state = curr_state\n",
        "  n-=1\n",
        "print(\"stop\")"
      ],
      "metadata": {
        "colab": {
          "base_uri": "https://localhost:8080/"
        },
        "id": "ty83FMYFBaV3",
        "outputId": "83b63112-0597-4848-c728-77e8c9f361e9"
      },
      "execution_count": null,
      "outputs": [
        {
          "output_type": "stream",
          "name": "stdout",
          "text": [
            "Rest ---> Sweeties ---> Exercises ---> Exercises ---> Rest ---> Exercises ---> Exercises ---> Rest ---> Sweeties ---> Exercises ---> Exercises ---> Rest ---> Sweeties ---> Exercises ---> Exercises ---> stop\n"
          ]
        }
      ]
    },
    {
      "cell_type": "code",
      "source": [
        "steps = 10**4\n",
        "start_step = 0\n",
        "pi = np.array([0,0,0])\n",
        "pi[start_state] = 1\n",
        "prev_state = start_state\n",
        "\n",
        "i = 0\n",
        "while i < steps:\n",
        "  curr_state = np.random.choice([0,1,2], p=A[prev_state])\n",
        "  pi[curr_state]+=1\n",
        "  prev_state = curr_state\n",
        "  i += 1\n",
        "\n",
        "print(\"pi = \", pi/steps)"
      ],
      "metadata": {
        "colab": {
          "base_uri": "https://localhost:8080/"
        },
        "id": "CDjI5wC6Dsxz",
        "outputId": "95671900-1c0b-431c-b364-0f7d1eb705c8"
      },
      "execution_count": null,
      "outputs": [
        {
          "output_type": "stream",
          "name": "stdout",
          "text": [
            "pi =  [0.3684 0.1583 0.4734]\n"
          ]
        }
      ]
    },
    {
      "cell_type": "code",
      "source": [
        "#stationary distribution\n",
        "steps = 1\n",
        "A_n = A\n",
        "\n",
        "i=0\n",
        "while i<steps:\n",
        "  A_n = np.matmul(A_n,A)\n",
        "  i+=1\n",
        "\n",
        "  print(\"A^n = \\n\", A_n, \"\\n\")\n",
        "  print(\"pi = \", A_n[0])"
      ],
      "metadata": {
        "colab": {
          "base_uri": "https://localhost:8080/"
        },
        "id": "afa5qDXPEose",
        "outputId": "3a8d27d0-028d-4348-f1b6-8c751b6560c3"
      },
      "execution_count": null,
      "outputs": [
        {
          "output_type": "stream",
          "name": "stdout",
          "text": [
            "A^n = \n",
            " [[0.42 0.14 0.44]\n",
            " [0.46 0.13 0.41]\n",
            " [0.31 0.17 0.52]] \n",
            "\n",
            "pi =  [0.42 0.14 0.44]\n"
          ]
        }
      ]
    }
  ]
}