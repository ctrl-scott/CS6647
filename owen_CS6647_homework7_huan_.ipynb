{
  "nbformat": 4,
  "nbformat_minor": 0,
  "metadata": {
    "colab": {
      "provenance": [],
      "authorship_tag": "ABX9TyPMF5yJA/ZDFBrc8hAQeLM3",
      "include_colab_link": true
    },
    "kernelspec": {
      "name": "python3",
      "display_name": "Python 3"
    },
    "language_info": {
      "name": "python"
    }
  },
  "cells": [
    {
      "cell_type": "markdown",
      "metadata": {
        "id": "view-in-github",
        "colab_type": "text"
      },
      "source": [
        "<a href=\"https://colab.research.google.com/github/ctrl-scott/CS6647/blob/main/owen_CS6647_homework7_huan_.ipynb\" target=\"_parent\"><img src=\"https://colab.research.google.com/assets/colab-badge.svg\" alt=\"Open In Colab\"/></a>"
      ]
    },
    {
      "cell_type": "markdown",
      "source": [
        "Use SciPy Optimization to solve:\n",
        "\n",
        "Someone wants to build a cardboard box and maximize the volume by adjusting the length (L), width (W), and height (H) of the box and the same time the surface area of the box (area of 6 sides) stays no more than 10.\n",
        "\n",
        "Print optimal L, W, H, Volume and surface area.\n",
        "\n",
        "What to turn in: Upload ipynb to Github\n",
        "and post the Github link in the comment area in the assignment.\n",
        "\n",
        "         "
      ],
      "metadata": {
        "id": "6VrDSnBajb53"
      }
    },
    {
      "cell_type": "code",
      "source": [
        "import scipy.optimize\n",
        "import matplotlib.pyplot as plt\n",
        "import numpy as np\n",
        "\n",
        "\n",
        "#using https://www.youtube.com/watch?v=M7ZA9fq2zCE&t=306s\n",
        "\n",
        "\n",
        "def objective_fcn(x):\n",
        "  x1 = x[0]\n",
        "  x2 = x[1]\n",
        "  return x1**2 + x1*x2\n",
        "\n",
        "def equality_constraint(x):\n",
        "  x1 = x[0]\n",
        "  x2 = x[1]\n",
        "  return x1**2 + x1*x2 - 10\n",
        "\n",
        "\n",
        "def inequality_constraint(x):\n",
        "  x1 = x[0]\n",
        "  x2 = x[1]\n",
        "  return x1**2 + x1*x2 - 10\n",
        "\n",
        "bounds_x1 = (-10, 10)\n",
        "bounds_x2 = (-10, 10)\n",
        "\n",
        "bounds = (bounds_x1, bounds_x2)\n",
        "\n",
        "constraint1 = {'type': 'eq', 'fun': equality_constraint}\n",
        "constraint2 = {'type': 'eq', 'fun': inequality_constraint}\n",
        "\n",
        "constraint = [constraint1, constraint2]\n",
        "\n",
        "x0 = [1,6]\n",
        "\n",
        "result = scipy.optimize.minimize(objective_fcn, x0,method='SLSQP', bounds=bounds, constraints=constraint)\n",
        "\n",
        "print(result)\n",
        "\n",
        "objective_fcn = lambda x: x[0]**2 + x[0]*x[1]\n",
        "constraint = [{'type': 'eq', 'fun': lambda x: x[0]**3 + x[0]*x[1] - 10},\n",
        "              {'type': 'ineq', 'fun': lambda x: x[0]**2 + x[0]*x[1] - 10}\n",
        "]\n",
        "\n",
        "x0 = [1,6]\n",
        "bounds = [(-10,10), (-10,10)]\n",
        "result = scipy.optimize.minimize(objective_fcn, x0, method = 'SLSQP', bounds=bounds, constraints = constraint)\n",
        "\n",
        "print(result)\n",
        "\n",
        "\n"
      ],
      "metadata": {
        "id": "VJNEjjdKjdY6",
        "colab": {
          "base_uri": "https://localhost:8080/"
        },
        "outputId": "4843c2c7-836f-45f6-b7c9-13d87e5ac05a"
      },
      "execution_count": 15,
      "outputs": [
        {
          "output_type": "stream",
          "name": "stdout",
          "text": [
            " message: Singular matrix C in LSQ subproblem\n",
            " success: False\n",
            "  status: 6\n",
            "     fun: 7.0\n",
            "       x: [ 1.000e+00  6.000e+00]\n",
            "     nit: 1\n",
            "     jac: [ 8.000e+00  1.000e+00]\n",
            "    nfev: 3\n",
            "    njev: 1\n",
            " message: Optimization terminated successfully\n",
            " success: True\n",
            "  status: 0\n",
            "     fun: 9.999999999999996\n",
            "       x: [ 1.000e+00  9.000e+00]\n",
            "     nit: 2\n",
            "     jac: [ 1.100e+01  1.000e+00]\n",
            "    nfev: 6\n",
            "    njev: 2\n"
          ]
        }
      ]
    },
    {
      "cell_type": "code",
      "source": [],
      "metadata": {
        "id": "5MNlbzfUokAP"
      },
      "execution_count": null,
      "outputs": []
    }
  ]
}